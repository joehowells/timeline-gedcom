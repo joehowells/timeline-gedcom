{
 "cells": [
  {
   "cell_type": "markdown",
   "id": "341be5ef-95a9-442f-b5fb-f74942a7d904",
   "metadata": {},
   "source": [
    "# Place features"
   ]
  },
  {
   "cell_type": "markdown",
   "id": "172397fe-a111-4418-92f2-9d7e313e8d7e",
   "metadata": {},
   "source": [
    "## Import dependencies"
   ]
  },
  {
   "cell_type": "code",
   "execution_count": 1,
   "id": "338125e8-4528-4947-a446-3bf95004ac77",
   "metadata": {},
   "outputs": [],
   "source": [
    "import matplotlib.pyplot as plt\n",
    "import pandas as pd\n",
    "from gedcom5.parser import GEDCOM5Parser\n",
    "from gedcom5.tag import PLAC\n",
    "from sklearn.cluster import AgglomerativeClustering\n",
    "from sklearn.feature_extraction.text import CountVectorizer\n",
    "from sklearn.manifold import Isomap\n",
    "from sklearn.pipeline import make_pipeline\n",
    "\n",
    "from common import walk"
   ]
  },
  {
   "cell_type": "markdown",
   "id": "1bbe49ac-483e-4fe5-b36a-d49bcb650617",
   "metadata": {},
   "source": [
    "## Extract data"
   ]
  },
  {
   "cell_type": "markdown",
   "id": "2044a763-e8ee-4296-8b9d-b12e13b7d10e",
   "metadata": {},
   "source": [
    "### Parse GEDCOM file"
   ]
  },
  {
   "cell_type": "code",
   "execution_count": 2,
   "id": "f59fd693-fd22-4427-b42f-ad0362e0ca33",
   "metadata": {},
   "outputs": [],
   "source": [
    "parser = GEDCOM5Parser()\n",
    "\n",
    "with open(\"data/royal92.ged\") as f:\n",
    "    gedcom = parser.parse_string(f.read())"
   ]
  },
  {
   "cell_type": "markdown",
   "id": "e7929079-3fde-419d-8cd9-68e897613c13",
   "metadata": {},
   "source": [
    "### Extract place names"
   ]
  },
  {
   "cell_type": "code",
   "execution_count": 3,
   "id": "72b6aa86-c747-4969-be0f-6ee40be38317",
   "metadata": {},
   "outputs": [
    {
     "data": {
      "text/plain": [
       "1341"
      ]
     },
     "execution_count": 3,
     "metadata": {},
     "output_type": "execute_result"
    }
   ],
   "source": [
    "places = [tag.value for tag in walk(gedcom) if isinstance(tag, PLAC)]\n",
    "len(places)"
   ]
  },
  {
   "cell_type": "code",
   "execution_count": 4,
   "id": "50d352f9-63f6-4d5a-bbde-74b81da6ae6a",
   "metadata": {},
   "outputs": [
    {
     "data": {
      "text/plain": [
       "715"
      ]
     },
     "execution_count": 4,
     "metadata": {},
     "output_type": "execute_result"
    }
   ],
   "source": [
    "unique_places = sorted(set(places))\n",
    "len(unique_places)"
   ]
  },
  {
   "cell_type": "markdown",
   "id": "d1c14808-0340-4a3d-8ada-fd9f5981af7c",
   "metadata": {},
   "source": [
    "## Generate features from text similarity"
   ]
  },
  {
   "cell_type": "code",
   "execution_count": 5,
   "id": "55f85032-5f8a-45b4-a759-0ad3e6878a73",
   "metadata": {},
   "outputs": [
    {
     "data": {
      "image/png": "[encoded data removed]",
      "text/plain": [
       "<Figure size 640x480 with 1 Axes>"
      ]
     },
     "metadata": {},
     "output_type": "display_data"
    }
   ],
   "source": [
    "n_neighbors = len(places) - 1\n",
    "\n",
    "pipeline = make_pipeline(\n",
    "    CountVectorizer(),\n",
    "    Isomap(n_neighbors=n_neighbors, metric=\"cosine\"),\n",
    ")\n",
    "pipeline.fit(places)\n",
    "\n",
    "features = pipeline.transform(unique_places)\n",
    "\n",
    "fig, ax = plt.subplots()\n",
    "ax.set_aspect(1)\n",
    "ax.scatter(*features.T);"
   ]
  },
  {
   "cell_type": "markdown",
   "id": "fd416eb8-e681-4b5d-8672-01efbb28fbd2",
   "metadata": {},
   "source": [
    "## Export features"
   ]
  },
  {
   "cell_type": "code",
   "execution_count": 6,
   "id": "b7f9cfdd-4d20-4edd-8a9c-6491cdeb3546",
   "metadata": {},
   "outputs": [
    {
     "data": {
      "text/html": [
       "<div>\n",
       "<style scoped>\n",
       "    .dataframe tbody tr th:only-of-type {\n",
       "        vertical-align: middle;\n",
       "    }\n",
       "\n",
       "    .dataframe tbody tr th {\n",
       "        vertical-align: top;\n",
       "    }\n",
       "\n",
       "    .dataframe thead th {\n",
       "        text-align: right;\n",
       "    }\n",
       "</style>\n",
       "<table border=\"1\" class=\"dataframe\">\n",
       "  <thead>\n",
       "    <tr style=\"text-align: right;\">\n",
       "      <th></th>\n",
       "      <th>place_0</th>\n",
       "      <th>place_1</th>\n",
       "    </tr>\n",
       "  </thead>\n",
       "  <tbody>\n",
       "    <tr>\n",
       "      <th>,,,England</th>\n",
       "      <td>0.509943</td>\n",
       "      <td>0.033108</td>\n",
       "    </tr>\n",
       "    <tr>\n",
       "      <th>,,,Ireland</th>\n",
       "      <td>-0.149154</td>\n",
       "      <td>-0.095430</td>\n",
       "    </tr>\n",
       "    <tr>\n",
       "      <th>,,,Russia</th>\n",
       "      <td>-0.161281</td>\n",
       "      <td>-0.101946</td>\n",
       "    </tr>\n",
       "    <tr>\n",
       "      <th>,,,U.S.A.</th>\n",
       "      <td>-0.147455</td>\n",
       "      <td>-0.092070</td>\n",
       "    </tr>\n",
       "    <tr>\n",
       "      <th>,,Brazil</th>\n",
       "      <td>-0.147899</td>\n",
       "      <td>-0.093747</td>\n",
       "    </tr>\n",
       "    <tr>\n",
       "      <th>...</th>\n",
       "      <td>...</td>\n",
       "      <td>...</td>\n",
       "    </tr>\n",
       "    <tr>\n",
       "      <th>York Cottage,Sandringham,Norfolk,England</th>\n",
       "      <td>0.215296</td>\n",
       "      <td>-0.026891</td>\n",
       "    </tr>\n",
       "    <tr>\n",
       "      <th>York Minster</th>\n",
       "      <td>-0.143085</td>\n",
       "      <td>-0.096187</td>\n",
       "    </tr>\n",
       "    <tr>\n",
       "      <th>York Place,,England</th>\n",
       "      <td>0.290973</td>\n",
       "      <td>-0.010439</td>\n",
       "    </tr>\n",
       "    <tr>\n",
       "      <th>Zuidschote</th>\n",
       "      <td>-0.147261</td>\n",
       "      <td>-0.092953</td>\n",
       "    </tr>\n",
       "    <tr>\n",
       "      <th>Zurich,,,Switzerland</th>\n",
       "      <td>-0.152194</td>\n",
       "      <td>-0.099623</td>\n",
       "    </tr>\n",
       "  </tbody>\n",
       "</table>\n",
       "<p>715 rows × 2 columns</p>\n",
       "</div>"
      ],
      "text/plain": [
       "                                           place_0   place_1\n",
       ",,,England                                0.509943  0.033108\n",
       ",,,Ireland                               -0.149154 -0.095430\n",
       ",,,Russia                                -0.161281 -0.101946\n",
       ",,,U.S.A.                                -0.147455 -0.092070\n",
       ",,Brazil                                 -0.147899 -0.093747\n",
       "...                                            ...       ...\n",
       "York Cottage,Sandringham,Norfolk,England  0.215296 -0.026891\n",
       "York Minster                             -0.143085 -0.096187\n",
       "York Place,,England                       0.290973 -0.010439\n",
       "Zuidschote                               -0.147261 -0.092953\n",
       "Zurich,,,Switzerland                     -0.152194 -0.099623\n",
       "\n",
       "[715 rows x 2 columns]"
      ]
     },
     "execution_count": 6,
     "metadata": {},
     "output_type": "execute_result"
    }
   ],
   "source": [
    "df = pd.DataFrame(\n",
    "    data=features,\n",
    "    columns=[\"place_0\", \"place_1\"],\n",
    "    index=unique_places,\n",
    ")\n",
    "df.to_csv(\"data/place_features.csv\")\n",
    "df"
   ]
  },
  {
   "cell_type": "markdown",
   "id": "f410e348-c522-4b79-8eec-b8c4368837e3",
   "metadata": {},
   "source": [
    "## Example clustering to explore groups"
   ]
  },
  {
   "cell_type": "code",
   "execution_count": 7,
   "id": "b05eb03c-4ee1-4dad-a9fe-024acd2e5d20",
   "metadata": {},
   "outputs": [
    {
     "data": {
      "image/png": "[encoded data removed]",
      "text/plain": [
       "<Figure size 640x480 with 2 Axes>"
      ]
     },
     "metadata": {},
     "output_type": "display_data"
    }
   ],
   "source": [
    "clustering = AgglomerativeClustering(n_clusters=10, linkage=\"single\")\n",
    "labels = clustering.fit_predict(features)\n",
    "\n",
    "fig, ax = plt.subplots()\n",
    "ax.set_aspect(1)\n",
    "p = ax.scatter(*features.T, c=labels, cmap=\"tab10\")\n",
    "fig.colorbar(p);"
   ]
  },
  {
   "cell_type": "code",
   "execution_count": 8,
   "id": "64ecb8b4-2bb1-47a7-9116-1d849af5533a",
   "metadata": {},
   "outputs": [
    {
     "data": {
      "text/html": [
       "<div>\n",
       "<style scoped>\n",
       "    .dataframe tbody tr th:only-of-type {\n",
       "        vertical-align: middle;\n",
       "    }\n",
       "\n",
       "    .dataframe tbody tr th {\n",
       "        vertical-align: top;\n",
       "    }\n",
       "\n",
       "    .dataframe thead th {\n",
       "        text-align: right;\n",
       "    }\n",
       "</style>\n",
       "<table border=\"1\" class=\"dataframe\">\n",
       "  <thead>\n",
       "    <tr style=\"text-align: right;\">\n",
       "      <th></th>\n",
       "      <th>place_0</th>\n",
       "      <th>place_1</th>\n",
       "      <th>label</th>\n",
       "    </tr>\n",
       "  </thead>\n",
       "  <tbody>\n",
       "    <tr>\n",
       "      <th>Auvergne,France</th>\n",
       "      <td>-0.320490</td>\n",
       "      <td>0.419968</td>\n",
       "      <td>0</td>\n",
       "    </tr>\n",
       "    <tr>\n",
       "      <th>St. George Chap.,,Windsor,England</th>\n",
       "      <td>0.251799</td>\n",
       "      <td>0.136381</td>\n",
       "      <td>1</td>\n",
       "    </tr>\n",
       "    <tr>\n",
       "      <th>Rouen</th>\n",
       "      <td>-0.222318</td>\n",
       "      <td>0.123923</td>\n",
       "      <td>2</td>\n",
       "    </tr>\n",
       "    <tr>\n",
       "      <th>St Denis,France</th>\n",
       "      <td>-0.261298</td>\n",
       "      <td>0.542452</td>\n",
       "      <td>3</td>\n",
       "    </tr>\n",
       "    <tr>\n",
       "      <th>,,,England</th>\n",
       "      <td>0.509943</td>\n",
       "      <td>0.033108</td>\n",
       "      <td>4</td>\n",
       "    </tr>\n",
       "    <tr>\n",
       "      <th>St. James Palac</th>\n",
       "      <td>-0.016385</td>\n",
       "      <td>0.182352</td>\n",
       "      <td>5</td>\n",
       "    </tr>\n",
       "    <tr>\n",
       "      <th>Cathedral of the,Fortress of P&amp;P,St. Petersburg,Russia</th>\n",
       "      <td>-0.115706</td>\n",
       "      <td>0.028683</td>\n",
       "      <td>6</td>\n",
       "    </tr>\n",
       "    <tr>\n",
       "      <th>France</th>\n",
       "      <td>-0.352585</td>\n",
       "      <td>0.550885</td>\n",
       "      <td>7</td>\n",
       "    </tr>\n",
       "    <tr>\n",
       "      <th>Winter Palace,St. Petersburg,Russia</th>\n",
       "      <td>-0.030148</td>\n",
       "      <td>0.122574</td>\n",
       "      <td>8</td>\n",
       "    </tr>\n",
       "    <tr>\n",
       "      <th>Winchester,Castle</th>\n",
       "      <td>0.066316</td>\n",
       "      <td>-0.120292</td>\n",
       "      <td>9</td>\n",
       "    </tr>\n",
       "  </tbody>\n",
       "</table>\n",
       "</div>"
      ],
      "text/plain": [
       "                                                     place_0   place_1  label\n",
       "Auvergne,France                                    -0.320490  0.419968      0\n",
       "St. George Chap.,,Windsor,England                   0.251799  0.136381      1\n",
       "Rouen                                              -0.222318  0.123923      2\n",
       "St Denis,France                                    -0.261298  0.542452      3\n",
       ",,,England                                          0.509943  0.033108      4\n",
       "St. James Palac                                    -0.016385  0.182352      5\n",
       "Cathedral of the,Fortress of P&P,St. Petersburg... -0.115706  0.028683      6\n",
       "France                                             -0.352585  0.550885      7\n",
       "Winter Palace,St. Petersburg,Russia                -0.030148  0.122574      8\n",
       "Winchester,Castle                                   0.066316 -0.120292      9"
      ]
     },
     "execution_count": 8,
     "metadata": {},
     "output_type": "execute_result"
    }
   ],
   "source": [
    "df[\"label\"] = labels\n",
    "df.sort_values(\"label\").groupby(\"label\").head(1)"
   ]
  }
 ],
 "metadata": {
  "kernelspec": {
   "display_name": "Python 3 (ipykernel)",
   "language": "python",
   "name": "python3"
  },
  "language_info": {
   "codemirror_mode": {
    "name": "ipython",
    "version": 3
   },
   "file_extension": ".py",
   "mimetype": "text/x-python",
   "name": "python",
   "nbconvert_exporter": "python",
   "pygments_lexer": "ipython3",
   "version": "3.11.6"
  }
 },
 "nbformat": 4,
 "nbformat_minor": 5
}
