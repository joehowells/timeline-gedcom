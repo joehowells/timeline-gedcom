{
 "cells": [
  {
   "cell_type": "markdown",
   "id": "341be5ef-95a9-442f-b5fb-f74942a7d904",
   "metadata": {},
   "source": [
    "# Place features"
   ]
  },
  {
   "cell_type": "markdown",
   "id": "ebae8864-4188-4504-a860-e03b1427c12a",
   "metadata": {},
   "source": [
    "## Introduction"
   ]
  },
  {
   "cell_type": "markdown",
   "id": "e9fba044-b021-492a-8f27-55fc49fdb39c",
   "metadata": {},
   "source": [
    "When selecting events to generate cards from, we want them to be spread out across the geographical extent of the family tree, not clumped around a particular location.\n",
    "\n",
    "We can achieve this by creating features (numeric values) that represent the location of each event. The clustering step will take these features into account, so that different geographical regions will be represented by different clusters in the output."
   ]
  },
  {
   "cell_type": "markdown",
   "id": "ecfad98e-4eb9-4107-96d3-1752d406b3ac",
   "metadata": {},
   "source": [
    "## Method"
   ]
  },
  {
   "cell_type": "markdown",
   "id": "dfc59d88-3a15-4d05-90f5-a13aa387f73c",
   "metadata": {},
   "source": [
    "We could create these features by using a geocoding service to search for latitude and longitude of each location. Then, the distance between the two locations would just be the Haversine distance between the two pairs of co-ordinates. However, this either requires access to a third-party (possibly commercial) API, or large amounts of computing resources to run a geocoding instance locally.\n",
    "\n",
    "We don't actually need the locations to be true to their co-ordinates, we only require that the relative distances between locations are approximate. For example, we would expect that \"London, UK\" is closer to \"Birmingham, UK\" than it is to \"New York City, NY, US\".\n",
    "\n",
    "We can approximate this by comparing the text similarity of the two locations, and then by performing order reduction to two dimensions. This is relatively inexpensive compared with a geocoding lookup, and gives us something we can work with.\n",
    "\n",
    "We could refine this model further by tuning the parameters of the model to better reflect the distances between locations with known latitude and longitude, for example from a gazetteer dataset. One trade-off of this approach is that the accuracy of the model would then be sensitive to the training dataset, such that the `timeline-gedcom` project may be less effective for family trees based in regions that weren't covered by the training data."
   ]
  },
  {
   "cell_type": "markdown",
   "id": "172397fe-a111-4418-92f2-9d7e313e8d7e",
   "metadata": {},
   "source": [
    "## Import dependencies"
   ]
  },
  {
   "cell_type": "code",
   "execution_count": 1,
   "id": "338125e8-4528-4947-a446-3bf95004ac77",
   "metadata": {},
   "outputs": [],
   "source": [
    "import matplotlib.pyplot as plt\n",
    "import pandas as pd\n",
    "from gedcom5.parser import GEDCOM5Parser\n",
    "from gedcom5.tag import PLAC\n",
    "from sklearn.cluster import AgglomerativeClustering\n",
    "from sklearn.feature_extraction.text import CountVectorizer\n",
    "from sklearn.manifold import Isomap\n",
    "from sklearn.pipeline import make_pipeline\n",
    "\n",
    "from common import walk"
   ]
  },
  {
   "cell_type": "markdown",
   "id": "1bbe49ac-483e-4fe5-b36a-d49bcb650617",
   "metadata": {},
   "source": [
    "## Extract data from GEDCOM file"
   ]
  },
  {
   "cell_type": "code",
   "execution_count": 2,
   "id": "f59fd693-fd22-4427-b42f-ad0362e0ca33",
   "metadata": {},
   "outputs": [],
   "source": [
    "parser = GEDCOM5Parser()\n",
    "\n",
    "with open(\"data/royal92.ged\") as f:\n",
    "    gedcom = parser.parse_string(f.read())"
   ]
  },
  {
   "cell_type": "markdown",
   "id": "e7929079-3fde-419d-8cd9-68e897613c13",
   "metadata": {},
   "source": [
    "## Extract place names"
   ]
  },
  {
   "cell_type": "markdown",
   "id": "7be3dd84-842a-41ae-b9f1-bd70f13b9df4",
   "metadata": {},
   "source": [
    "We start by scanning the file for anything that's tagged as a place, and recording it."
   ]
  },
  {
   "cell_type": "code",
   "execution_count": 3,
   "id": "72b6aa86-c747-4969-be0f-6ee40be38317",
   "metadata": {},
   "outputs": [
    {
     "data": {
      "text/plain": [
       "1341"
      ]
     },
     "execution_count": 3,
     "metadata": {},
     "output_type": "execute_result"
    }
   ],
   "source": [
    "places = [tag.value for tag in walk(gedcom) if isinstance(tag, PLAC)]\n",
    "len(places)"
   ]
  },
  {
   "cell_type": "code",
   "execution_count": 4,
   "id": "a04734b6-d824-47f8-8bde-7429e947b150",
   "metadata": {},
   "outputs": [
    {
     "data": {
      "text/plain": [
       "715"
      ]
     },
     "execution_count": 4,
     "metadata": {},
     "output_type": "execute_result"
    }
   ],
   "source": [
    "unique_places = list(set(places))\n",
    "len(unique_places)"
   ]
  },
  {
   "cell_type": "markdown",
   "id": "d1c14808-0340-4a3d-8ada-fd9f5981af7c",
   "metadata": {},
   "source": [
    "## Generate features from text similarity"
   ]
  },
  {
   "cell_type": "markdown",
   "id": "9b93f7af-e6a9-4722-8585-68bb4de25c43",
   "metadata": {},
   "source": [
    "We then create our transformation pipeline. This outputs two features for each location: if two locations have similar values for their respective features, they're assumed to be closer together in physical space.\n",
    "\n",
    "We can see clear clumps of locations that are close together, which we can isolate using clustering."
   ]
  },
  {
   "cell_type": "code",
   "execution_count": 5,
   "id": "46117091-b1dd-48d2-8ef0-09f26699e8a2",
   "metadata": {},
   "outputs": [
    {
     "data": {
      "image/png": "[encoded data removed]",
      "text/plain": [
       "<Figure size 640x480 with 1 Axes>"
      ]
     },
     "metadata": {},
     "output_type": "display_data"
    }
   ],
   "source": [
    "n_neighbors = len(places) - 1\n",
    "\n",
    "pipeline = make_pipeline(\n",
    "    CountVectorizer(),\n",
    "    Isomap(n_neighbors=n_neighbors, metric=\"cosine\"),\n",
    ")\n",
    "pipeline.fit(places)\n",
    "\n",
    "features = pipeline.transform(unique_places)\n",
    "\n",
    "fig, ax = plt.subplots()\n",
    "ax.set_aspect(1)\n",
    "ax.scatter(*features.T);"
   ]
  },
  {
   "cell_type": "markdown",
   "id": "fd416eb8-e681-4b5d-8672-01efbb28fbd2",
   "metadata": {},
   "source": [
    "## Export features"
   ]
  },
  {
   "cell_type": "markdown",
   "id": "68fa2ee8-c04b-41e9-bf8d-6fea659061e3",
   "metadata": {},
   "source": [
    "We export the numeric values so we can use them when selecting events."
   ]
  },
  {
   "cell_type": "code",
   "execution_count": 6,
   "id": "b7f9cfdd-4d20-4edd-8a9c-6491cdeb3546",
   "metadata": {},
   "outputs": [
    {
     "data": {
      "text/html": [
       "<div>\n",
       "<style scoped>\n",
       "    .dataframe tbody tr th:only-of-type {\n",
       "        vertical-align: middle;\n",
       "    }\n",
       "\n",
       "    .dataframe tbody tr th {\n",
       "        vertical-align: top;\n",
       "    }\n",
       "\n",
       "    .dataframe thead th {\n",
       "        text-align: right;\n",
       "    }\n",
       "</style>\n",
       "<table border=\"1\" class=\"dataframe\">\n",
       "  <thead>\n",
       "    <tr style=\"text-align: right;\">\n",
       "      <th></th>\n",
       "      <th>place_0</th>\n",
       "      <th>place_1</th>\n",
       "    </tr>\n",
       "  </thead>\n",
       "  <tbody>\n",
       "    <tr>\n",
       "      <th>Vicarage Place,Kensington</th>\n",
       "      <td>-0.128251</td>\n",
       "      <td>-0.089317</td>\n",
       "    </tr>\n",
       "    <tr>\n",
       "      <th>Coburg,Germany</th>\n",
       "      <td>-0.206887</td>\n",
       "      <td>-0.221405</td>\n",
       "    </tr>\n",
       "    <tr>\n",
       "      <th>Maastricht</th>\n",
       "      <td>-0.147261</td>\n",
       "      <td>-0.092953</td>\n",
       "    </tr>\n",
       "    <tr>\n",
       "      <th>Augustenburg</th>\n",
       "      <td>-0.147261</td>\n",
       "      <td>-0.092953</td>\n",
       "    </tr>\n",
       "    <tr>\n",
       "      <th>Near Stanmore,Middlesex,England</th>\n",
       "      <td>0.229933</td>\n",
       "      <td>-0.036825</td>\n",
       "    </tr>\n",
       "    <tr>\n",
       "      <th>...</th>\n",
       "      <td>...</td>\n",
       "      <td>...</td>\n",
       "    </tr>\n",
       "    <tr>\n",
       "      <th>Royal Mausoleum,Frogmore,Berkshire,England</th>\n",
       "      <td>0.238519</td>\n",
       "      <td>-0.020116</td>\n",
       "    </tr>\n",
       "    <tr>\n",
       "      <th>Kew Palace</th>\n",
       "      <td>0.040132</td>\n",
       "      <td>-0.027996</td>\n",
       "    </tr>\n",
       "    <tr>\n",
       "      <th>Utrecht</th>\n",
       "      <td>-0.147261</td>\n",
       "      <td>-0.092953</td>\n",
       "    </tr>\n",
       "    <tr>\n",
       "      <th>St. Germain-,en-Laye,France</th>\n",
       "      <td>-0.242021</td>\n",
       "      <td>0.425076</td>\n",
       "    </tr>\n",
       "    <tr>\n",
       "      <th>St. George's,Chapel,Windsor,England</th>\n",
       "      <td>0.251208</td>\n",
       "      <td>0.130959</td>\n",
       "    </tr>\n",
       "  </tbody>\n",
       "</table>\n",
       "<p>715 rows × 2 columns</p>\n",
       "</div>"
      ],
      "text/plain": [
       "                                             place_0   place_1\n",
       "Vicarage Place,Kensington                  -0.128251 -0.089317\n",
       "Coburg,Germany                             -0.206887 -0.221405\n",
       "Maastricht                                 -0.147261 -0.092953\n",
       "Augustenburg                               -0.147261 -0.092953\n",
       "Near Stanmore,Middlesex,England             0.229933 -0.036825\n",
       "...                                              ...       ...\n",
       "Royal Mausoleum,Frogmore,Berkshire,England  0.238519 -0.020116\n",
       "Kew Palace                                  0.040132 -0.027996\n",
       "Utrecht                                    -0.147261 -0.092953\n",
       "St. Germain-,en-Laye,France                -0.242021  0.425076\n",
       "St. George's,Chapel,Windsor,England         0.251208  0.130959\n",
       "\n",
       "[715 rows x 2 columns]"
      ]
     },
     "execution_count": 6,
     "metadata": {},
     "output_type": "execute_result"
    }
   ],
   "source": [
    "df = pd.DataFrame(\n",
    "    data=features,\n",
    "    columns=[\"place_0\", \"place_1\"],\n",
    "    index=unique_places,\n",
    ")\n",
    "df.to_csv(\"data/place_features.csv\")\n",
    "df"
   ]
  },
  {
   "cell_type": "markdown",
   "id": "f410e348-c522-4b79-8eec-b8c4368837e3",
   "metadata": {},
   "source": [
    "## Example clustering to explore groups"
   ]
  },
  {
   "cell_type": "markdown",
   "id": "477a9d2a-8079-4310-ab17-15bd09725d55",
   "metadata": {},
   "source": [
    "These plots show how these features could be clustered in isolation."
   ]
  },
  {
   "cell_type": "code",
   "execution_count": 7,
   "id": "bdc4bac2-218d-4f1b-ab41-f0ca78928e1c",
   "metadata": {},
   "outputs": [
    {
     "data": {
      "text/html": [
       "<div>\n",
       "<style scoped>\n",
       "    .dataframe tbody tr th:only-of-type {\n",
       "        vertical-align: middle;\n",
       "    }\n",
       "\n",
       "    .dataframe tbody tr th {\n",
       "        vertical-align: top;\n",
       "    }\n",
       "\n",
       "    .dataframe thead th {\n",
       "        text-align: right;\n",
       "    }\n",
       "</style>\n",
       "<table border=\"1\" class=\"dataframe\">\n",
       "  <thead>\n",
       "    <tr style=\"text-align: right;\">\n",
       "      <th></th>\n",
       "      <th>0</th>\n",
       "      <th>1</th>\n",
       "    </tr>\n",
       "  </thead>\n",
       "  <tbody>\n",
       "    <tr>\n",
       "      <th>Cannes, France</th>\n",
       "      <td>-0.321825</td>\n",
       "      <td>0.421450</td>\n",
       "    </tr>\n",
       "    <tr>\n",
       "      <th>Paris, France</th>\n",
       "      <td>-0.340183</td>\n",
       "      <td>0.467939</td>\n",
       "    </tr>\n",
       "    <tr>\n",
       "      <th>Isle of Wight, England</th>\n",
       "      <td>0.249194</td>\n",
       "      <td>-0.030658</td>\n",
       "    </tr>\n",
       "    <tr>\n",
       "      <th>London, England</th>\n",
       "      <td>0.529535</td>\n",
       "      <td>0.044077</td>\n",
       "    </tr>\n",
       "    <tr>\n",
       "      <th>Windsor, England</th>\n",
       "      <td>0.398350</td>\n",
       "      <td>-0.013800</td>\n",
       "    </tr>\n",
       "    <tr>\n",
       "      <th>St. Petersburg, Russia</th>\n",
       "      <td>-0.125730</td>\n",
       "      <td>0.125984</td>\n",
       "    </tr>\n",
       "  </tbody>\n",
       "</table>\n",
       "</div>"
      ],
      "text/plain": [
       "                               0         1\n",
       "Cannes, France         -0.321825  0.421450\n",
       "Paris, France          -0.340183  0.467939\n",
       "Isle of Wight, England  0.249194 -0.030658\n",
       "London, England         0.529535  0.044077\n",
       "Windsor, England        0.398350 -0.013800\n",
       "St. Petersburg, Russia -0.125730  0.125984"
      ]
     },
     "execution_count": 7,
     "metadata": {},
     "output_type": "execute_result"
    }
   ],
   "source": [
    "reference_labels = [\n",
    "    \"Cannes, France\",\n",
    "    \"Paris, France\",\n",
    "    \"Isle of Wight, England\",\n",
    "    \"London, England\",\n",
    "    \"Windsor, England\",\n",
    "    \"St. Petersburg, Russia\",\n",
    "]\n",
    "reference_features = pipeline.transform(reference_labels)\n",
    "\n",
    "reference = pd.DataFrame(reference_features, index=reference_labels)\n",
    "reference"
   ]
  },
  {
   "cell_type": "code",
   "execution_count": 8,
   "id": "b05eb03c-4ee1-4dad-a9fe-024acd2e5d20",
   "metadata": {},
   "outputs": [
    {
     "data": {
      "image/png": "[encoded data removed]",
      "text/plain": [
       "<Figure size 640x480 with 2 Axes>"
      ]
     },
     "metadata": {},
     "output_type": "display_data"
    }
   ],
   "source": [
    "clustering = AgglomerativeClustering(n_clusters=10, linkage=\"single\")\n",
    "labels = clustering.fit_predict(features)\n",
    "\n",
    "fig, ax = plt.subplots()\n",
    "ax.set_aspect(1)\n",
    "p = ax.scatter(*features.T, c=labels, cmap=\"tab10\")\n",
    "\n",
    "reference.plot.scatter(0, 1, marker=\"x\", color=\"black\", ax=ax)\n",
    "for idx, row in reference.iterrows():\n",
    "    ax.annotate(idx, (row[0], row[1]))\n",
    "\n",
    "fig.colorbar(p);"
   ]
  },
  {
   "cell_type": "code",
   "execution_count": 9,
   "id": "64ecb8b4-2bb1-47a7-9116-1d849af5533a",
   "metadata": {},
   "outputs": [
    {
     "data": {
      "text/html": [
       "<div>\n",
       "<style scoped>\n",
       "    .dataframe tbody tr th:only-of-type {\n",
       "        vertical-align: middle;\n",
       "    }\n",
       "\n",
       "    .dataframe tbody tr th {\n",
       "        vertical-align: top;\n",
       "    }\n",
       "\n",
       "    .dataframe thead th {\n",
       "        text-align: right;\n",
       "    }\n",
       "</style>\n",
       "<table border=\"1\" class=\"dataframe\">\n",
       "  <thead>\n",
       "    <tr style=\"text-align: right;\">\n",
       "      <th></th>\n",
       "      <th>place_0</th>\n",
       "      <th>place_1</th>\n",
       "      <th>label</th>\n",
       "    </tr>\n",
       "  </thead>\n",
       "  <tbody>\n",
       "    <tr>\n",
       "      <th>St Denis</th>\n",
       "      <td>-0.193603</td>\n",
       "      <td>0.415224</td>\n",
       "      <td>0</td>\n",
       "    </tr>\n",
       "    <tr>\n",
       "      <th>St. Swithin's,Priory,Winchester,England</th>\n",
       "      <td>0.214988</td>\n",
       "      <td>0.140926</td>\n",
       "      <td>1</td>\n",
       "    </tr>\n",
       "    <tr>\n",
       "      <th>Celestines,Paris</th>\n",
       "      <td>-0.198763</td>\n",
       "      <td>0.045306</td>\n",
       "      <td>2</td>\n",
       "    </tr>\n",
       "    <tr>\n",
       "      <th>St Cyr,France</th>\n",
       "      <td>-0.255818</td>\n",
       "      <td>0.519751</td>\n",
       "      <td>3</td>\n",
       "    </tr>\n",
       "    <tr>\n",
       "      <th>Abbas Tuman,Caucasus,Russia</th>\n",
       "      <td>-0.156083</td>\n",
       "      <td>-0.098991</td>\n",
       "      <td>4</td>\n",
       "    </tr>\n",
       "    <tr>\n",
       "      <th>St. James Palac</th>\n",
       "      <td>-0.016385</td>\n",
       "      <td>0.182352</td>\n",
       "      <td>5</td>\n",
       "    </tr>\n",
       "    <tr>\n",
       "      <th>St Stephen Abbey,Caen,Normandy</th>\n",
       "      <td>-0.097004</td>\n",
       "      <td>0.099570</td>\n",
       "      <td>6</td>\n",
       "    </tr>\n",
       "    <tr>\n",
       "      <th>France</th>\n",
       "      <td>-0.352585</td>\n",
       "      <td>0.550885</td>\n",
       "      <td>7</td>\n",
       "    </tr>\n",
       "    <tr>\n",
       "      <th>Winter Palace,,St. Petersburg,Russia</th>\n",
       "      <td>-0.030148</td>\n",
       "      <td>0.122574</td>\n",
       "      <td>8</td>\n",
       "    </tr>\n",
       "    <tr>\n",
       "      <th>Winchester,Castle</th>\n",
       "      <td>0.066316</td>\n",
       "      <td>-0.120292</td>\n",
       "      <td>9</td>\n",
       "    </tr>\n",
       "  </tbody>\n",
       "</table>\n",
       "</div>"
      ],
      "text/plain": [
       "                                          place_0   place_1  label\n",
       "St Denis                                -0.193603  0.415224      0\n",
       "St. Swithin's,Priory,Winchester,England  0.214988  0.140926      1\n",
       "Celestines,Paris                        -0.198763  0.045306      2\n",
       "St Cyr,France                           -0.255818  0.519751      3\n",
       "Abbas Tuman,Caucasus,Russia             -0.156083 -0.098991      4\n",
       "St. James Palac                         -0.016385  0.182352      5\n",
       "St Stephen Abbey,Caen,Normandy          -0.097004  0.099570      6\n",
       "France                                  -0.352585  0.550885      7\n",
       "Winter Palace,,St. Petersburg,Russia    -0.030148  0.122574      8\n",
       "Winchester,Castle                        0.066316 -0.120292      9"
      ]
     },
     "execution_count": 9,
     "metadata": {},
     "output_type": "execute_result"
    }
   ],
   "source": [
    "df[\"label\"] = labels\n",
    "df.sort_values(\"label\").groupby(\"label\").head(1)"
   ]
  }
 ],
 "metadata": {
  "kernelspec": {
   "display_name": "Python 3 (ipykernel)",
   "language": "python",
   "name": "python3"
  },
  "language_info": {
   "codemirror_mode": {
    "name": "ipython",
    "version": 3
   },
   "file_extension": ".py",
   "mimetype": "text/x-python",
   "name": "python",
   "nbconvert_exporter": "python",
   "pygments_lexer": "ipython3",
   "version": "3.11.6"
  }
 },
 "nbformat": 4,
 "nbformat_minor": 5
}
