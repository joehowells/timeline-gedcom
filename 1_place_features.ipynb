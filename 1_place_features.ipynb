{
 "cells": [
  {
   "cell_type": "markdown",
   "id": "341be5ef-95a9-442f-b5fb-f74942a7d904",
   "metadata": {},
   "source": [
    "# Place features"
   ]
  },
  {
   "cell_type": "markdown",
   "id": "172397fe-a111-4418-92f2-9d7e313e8d7e",
   "metadata": {},
   "source": [
    "## Import dependencies"
   ]
  },
  {
   "cell_type": "code",
   "execution_count": 1,
   "id": "338125e8-4528-4947-a446-3bf95004ac77",
   "metadata": {},
   "outputs": [],
   "source": [
    "import matplotlib.pyplot as plt\n",
    "import pandas as pd\n",
    "from gedcom5.parser import GEDCOM5Parser\n",
    "from gedcom5.tag import PLAC\n",
    "from sklearn.cluster import AgglomerativeClustering\n",
    "from sklearn.feature_extraction.text import CountVectorizer\n",
    "from sklearn.manifold import Isomap\n",
    "from sklearn.pipeline import make_pipeline\n",
    "\n",
    "from common import walk"
   ]
  },
  {
   "cell_type": "markdown",
   "id": "1bbe49ac-483e-4fe5-b36a-d49bcb650617",
   "metadata": {},
   "source": [
    "## Extract data"
   ]
  },
  {
   "cell_type": "markdown",
   "id": "2044a763-e8ee-4296-8b9d-b12e13b7d10e",
   "metadata": {},
   "source": [
    "### Parse GEDCOM file"
   ]
  },
  {
   "cell_type": "code",
   "execution_count": 2,
   "id": "f59fd693-fd22-4427-b42f-ad0362e0ca33",
   "metadata": {},
   "outputs": [],
   "source": [
    "parser = GEDCOM5Parser()\n",
    "\n",
    "with open(\"data/royal92.ged\") as f:\n",
    "    gedcom = parser.parse_string(f.read())"
   ]
  },
  {
   "cell_type": "markdown",
   "id": "e7929079-3fde-419d-8cd9-68e897613c13",
   "metadata": {},
   "source": [
    "### Extract place names"
   ]
  },
  {
   "cell_type": "code",
   "execution_count": 3,
   "id": "72b6aa86-c747-4969-be0f-6ee40be38317",
   "metadata": {},
   "outputs": [
    {
     "data": {
      "text/plain": [
       "1341"
      ]
     },
     "execution_count": 3,
     "metadata": {},
     "output_type": "execute_result"
    }
   ],
   "source": [
    "places = [tag.value for tag in walk(gedcom) if isinstance(tag, PLAC)]\n",
    "len(places)"
   ]
  },
  {
   "cell_type": "markdown",
   "id": "d1c14808-0340-4a3d-8ada-fd9f5981af7c",
   "metadata": {},
   "source": [
    "## Generate features from text similarity"
   ]
  },
  {
   "cell_type": "code",
   "execution_count": 4,
   "id": "55f85032-5f8a-45b4-a759-0ad3e6878a73",
   "metadata": {},
   "outputs": [
    {
     "data": {
      "image/png": "[encoded data removed]",
      "text/plain": [
       "<Figure size 640x480 with 1 Axes>"
      ]
     },
     "metadata": {},
     "output_type": "display_data"
    }
   ],
   "source": [
    "n_neighbors = len(places) - 1\n",
    "\n",
    "pipeline = make_pipeline(\n",
    "    CountVectorizer(),\n",
    "    Isomap(n_neighbors=n_neighbors, metric=\"cosine\"),\n",
    ")\n",
    "features = pipeline.fit_transform(places)\n",
    "\n",
    "fig, ax = plt.subplots()\n",
    "ax.set_aspect(1)\n",
    "ax.scatter(*features.T);"
   ]
  },
  {
   "cell_type": "markdown",
   "id": "fd416eb8-e681-4b5d-8672-01efbb28fbd2",
   "metadata": {},
   "source": [
    "## Export features"
   ]
  },
  {
   "cell_type": "code",
   "execution_count": 5,
   "id": "b7f9cfdd-4d20-4edd-8a9c-6491cdeb3546",
   "metadata": {},
   "outputs": [
    {
     "data": {
      "text/html": [
       "<div>\n",
       "<style scoped>\n",
       "    .dataframe tbody tr th:only-of-type {\n",
       "        vertical-align: middle;\n",
       "    }\n",
       "\n",
       "    .dataframe tbody tr th {\n",
       "        vertical-align: top;\n",
       "    }\n",
       "\n",
       "    .dataframe thead th {\n",
       "        text-align: right;\n",
       "    }\n",
       "</style>\n",
       "<table border=\"1\" class=\"dataframe\">\n",
       "  <thead>\n",
       "    <tr style=\"text-align: right;\">\n",
       "      <th></th>\n",
       "      <th>place</th>\n",
       "      <th>place_0</th>\n",
       "      <th>place_1</th>\n",
       "    </tr>\n",
       "  </thead>\n",
       "  <tbody>\n",
       "    <tr>\n",
       "      <th>0</th>\n",
       "      <td>Kensington,Palace,London,England</td>\n",
       "      <td>0.458468</td>\n",
       "      <td>0.054688</td>\n",
       "    </tr>\n",
       "    <tr>\n",
       "      <th>1</th>\n",
       "      <td>Osborne House,Isle of Wight,England</td>\n",
       "      <td>0.209718</td>\n",
       "      <td>-0.032691</td>\n",
       "    </tr>\n",
       "    <tr>\n",
       "      <th>2</th>\n",
       "      <td>Royal Mausoleum,Frogmore,Berkshire,England</td>\n",
       "      <td>0.238519</td>\n",
       "      <td>-0.020116</td>\n",
       "    </tr>\n",
       "    <tr>\n",
       "      <th>3</th>\n",
       "      <td>Schloss Rosenau,Near Coburg,Germany</td>\n",
       "      <td>-0.189654</td>\n",
       "      <td>-0.194401</td>\n",
       "    </tr>\n",
       "    <tr>\n",
       "      <th>4</th>\n",
       "      <td>Windsor Castle,Berkshire,England</td>\n",
       "      <td>0.286371</td>\n",
       "      <td>-0.053135</td>\n",
       "    </tr>\n",
       "    <tr>\n",
       "      <th>...</th>\n",
       "      <td>...</td>\n",
       "      <td>...</td>\n",
       "      <td>...</td>\n",
       "    </tr>\n",
       "    <tr>\n",
       "      <th>1336</th>\n",
       "      <td>Frederiksborg</td>\n",
       "      <td>-0.160424</td>\n",
       "      <td>-0.116100</td>\n",
       "    </tr>\n",
       "    <tr>\n",
       "      <th>1337</th>\n",
       "      <td>Oldenburg,Germany</td>\n",
       "      <td>-0.205512</td>\n",
       "      <td>-0.218970</td>\n",
       "    </tr>\n",
       "    <tr>\n",
       "      <th>1338</th>\n",
       "      <td>Compiegne</td>\n",
       "      <td>-0.147261</td>\n",
       "      <td>-0.092953</td>\n",
       "    </tr>\n",
       "    <tr>\n",
       "      <th>1339</th>\n",
       "      <td>London,England</td>\n",
       "      <td>0.529535</td>\n",
       "      <td>0.044077</td>\n",
       "    </tr>\n",
       "    <tr>\n",
       "      <th>1340</th>\n",
       "      <td>Guildhall,London,England</td>\n",
       "      <td>0.454478</td>\n",
       "      <td>0.038462</td>\n",
       "    </tr>\n",
       "  </tbody>\n",
       "</table>\n",
       "<p>1341 rows × 3 columns</p>\n",
       "</div>"
      ],
      "text/plain": [
       "                                           place   place_0   place_1\n",
       "0               Kensington,Palace,London,England  0.458468  0.054688\n",
       "1            Osborne House,Isle of Wight,England  0.209718 -0.032691\n",
       "2     Royal Mausoleum,Frogmore,Berkshire,England  0.238519 -0.020116\n",
       "3            Schloss Rosenau,Near Coburg,Germany -0.189654 -0.194401\n",
       "4               Windsor Castle,Berkshire,England  0.286371 -0.053135\n",
       "...                                          ...       ...       ...\n",
       "1336                               Frederiksborg -0.160424 -0.116100\n",
       "1337                           Oldenburg,Germany -0.205512 -0.218970\n",
       "1338                                   Compiegne -0.147261 -0.092953\n",
       "1339                              London,England  0.529535  0.044077\n",
       "1340                    Guildhall,London,England  0.454478  0.038462\n",
       "\n",
       "[1341 rows x 3 columns]"
      ]
     },
     "execution_count": 5,
     "metadata": {},
     "output_type": "execute_result"
    }
   ],
   "source": [
    "df = pd.DataFrame(\n",
    "    {\n",
    "        \"place\": places,\n",
    "        \"place_0\": features[:, 0],\n",
    "        \"place_1\": features[:, 1],\n",
    "    }\n",
    ")\n",
    "df.to_csv(\"data/places.csv\", index=False)\n",
    "df"
   ]
  },
  {
   "cell_type": "markdown",
   "id": "f410e348-c522-4b79-8eec-b8c4368837e3",
   "metadata": {},
   "source": [
    "## Example clustering to explore groups"
   ]
  },
  {
   "cell_type": "code",
   "execution_count": 6,
   "id": "b05eb03c-4ee1-4dad-a9fe-024acd2e5d20",
   "metadata": {},
   "outputs": [
    {
     "data": {
      "image/png": "[encoded data removed]",
      "text/plain": [
       "<Figure size 640x480 with 2 Axes>"
      ]
     },
     "metadata": {},
     "output_type": "display_data"
    }
   ],
   "source": [
    "clustering = AgglomerativeClustering(n_clusters=10, linkage=\"single\")\n",
    "labels = clustering.fit_predict(features)\n",
    "\n",
    "fig, ax = plt.subplots()\n",
    "ax.set_aspect(1)\n",
    "p = ax.scatter(*features.T, c=labels, cmap=\"tab10\")\n",
    "fig.colorbar(p);"
   ]
  },
  {
   "cell_type": "code",
   "execution_count": 7,
   "id": "64ecb8b4-2bb1-47a7-9116-1d849af5533a",
   "metadata": {},
   "outputs": [
    {
     "data": {
      "text/html": [
       "<div>\n",
       "<style scoped>\n",
       "    .dataframe tbody tr th:only-of-type {\n",
       "        vertical-align: middle;\n",
       "    }\n",
       "\n",
       "    .dataframe tbody tr th {\n",
       "        vertical-align: top;\n",
       "    }\n",
       "\n",
       "    .dataframe thead th {\n",
       "        text-align: right;\n",
       "    }\n",
       "</style>\n",
       "<table border=\"1\" class=\"dataframe\">\n",
       "  <thead>\n",
       "    <tr style=\"text-align: right;\">\n",
       "      <th></th>\n",
       "      <th>place</th>\n",
       "      <th>place_0</th>\n",
       "      <th>place_1</th>\n",
       "      <th>label</th>\n",
       "    </tr>\n",
       "  </thead>\n",
       "  <tbody>\n",
       "    <tr>\n",
       "      <th>508</th>\n",
       "      <td>Paris,France</td>\n",
       "      <td>-0.340183</td>\n",
       "      <td>0.467939</td>\n",
       "      <td>0</td>\n",
       "    </tr>\n",
       "    <tr>\n",
       "      <th>444</th>\n",
       "      <td>St. James Palace,London,England</td>\n",
       "      <td>0.413089</td>\n",
       "      <td>0.207476</td>\n",
       "      <td>1</td>\n",
       "    </tr>\n",
       "    <tr>\n",
       "      <th>857</th>\n",
       "      <td>Le Mans</td>\n",
       "      <td>-0.231240</td>\n",
       "      <td>0.154379</td>\n",
       "      <td>2</td>\n",
       "    </tr>\n",
       "    <tr>\n",
       "      <th>1097</th>\n",
       "      <td>St. Denis,France</td>\n",
       "      <td>-0.261298</td>\n",
       "      <td>0.542452</td>\n",
       "      <td>3</td>\n",
       "    </tr>\n",
       "    <tr>\n",
       "      <th>926</th>\n",
       "      <td>Westminster,Abbey,London,England</td>\n",
       "      <td>0.426856</td>\n",
       "      <td>0.024690</td>\n",
       "      <td>4</td>\n",
       "    </tr>\n",
       "    <tr>\n",
       "      <th>952</th>\n",
       "      <td>St. Paul's</td>\n",
       "      <td>-0.026144</td>\n",
       "      <td>0.186681</td>\n",
       "      <td>5</td>\n",
       "    </tr>\n",
       "    <tr>\n",
       "      <th>831</th>\n",
       "      <td>St. Petersburg,Russia</td>\n",
       "      <td>-0.125730</td>\n",
       "      <td>0.125984</td>\n",
       "      <td>6</td>\n",
       "    </tr>\n",
       "    <tr>\n",
       "      <th>1135</th>\n",
       "      <td>France</td>\n",
       "      <td>-0.352585</td>\n",
       "      <td>0.550885</td>\n",
       "      <td>7</td>\n",
       "    </tr>\n",
       "    <tr>\n",
       "      <th>1142</th>\n",
       "      <td>Winter Palace,,St. Petersburg,Russia</td>\n",
       "      <td>-0.030148</td>\n",
       "      <td>0.122574</td>\n",
       "      <td>8</td>\n",
       "    </tr>\n",
       "    <tr>\n",
       "      <th>814</th>\n",
       "      <td>Winchester,Castle</td>\n",
       "      <td>0.066316</td>\n",
       "      <td>-0.120292</td>\n",
       "      <td>9</td>\n",
       "    </tr>\n",
       "  </tbody>\n",
       "</table>\n",
       "</div>"
      ],
      "text/plain": [
       "                                     place   place_0   place_1  label\n",
       "508                           Paris,France -0.340183  0.467939      0\n",
       "444        St. James Palace,London,England  0.413089  0.207476      1\n",
       "857                                Le Mans -0.231240  0.154379      2\n",
       "1097                      St. Denis,France -0.261298  0.542452      3\n",
       "926       Westminster,Abbey,London,England  0.426856  0.024690      4\n",
       "952                             St. Paul's -0.026144  0.186681      5\n",
       "831                  St. Petersburg,Russia -0.125730  0.125984      6\n",
       "1135                                France -0.352585  0.550885      7\n",
       "1142  Winter Palace,,St. Petersburg,Russia -0.030148  0.122574      8\n",
       "814                      Winchester,Castle  0.066316 -0.120292      9"
      ]
     },
     "execution_count": 7,
     "metadata": {},
     "output_type": "execute_result"
    }
   ],
   "source": [
    "df[\"label\"] = labels\n",
    "df.sort_values(\"label\").groupby(\"label\").head(1)"
   ]
  }
 ],
 "metadata": {
  "kernelspec": {
   "display_name": "Python 3 (ipykernel)",
   "language": "python",
   "name": "python3"
  },
  "language_info": {
   "codemirror_mode": {
    "name": "ipython",
    "version": 3
   },
   "file_extension": ".py",
   "mimetype": "text/x-python",
   "name": "python",
   "nbconvert_exporter": "python",
   "pygments_lexer": "ipython3",
   "version": "3.11.6"
  }
 },
 "nbformat": 4,
 "nbformat_minor": 5
}
